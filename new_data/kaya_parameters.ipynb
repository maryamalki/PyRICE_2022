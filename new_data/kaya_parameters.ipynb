{
 "cells": [
  {
   "cell_type": "markdown",
   "metadata": {},
   "source": [
    "# Disaggregating Sigma"
   ]
  },
  {
   "cell_type": "markdown",
   "metadata": {},
   "source": [
    "While keeping the CO2 emissions as is, we disagregate the sigma parameter by introducing Primary Energy. "
   ]
  },
  {
   "cell_type": "code",
   "execution_count": 1,
   "metadata": {},
   "outputs": [],
   "source": [
    "import pandas as pd"
   ]
  },
  {
   "cell_type": "code",
   "execution_count": 2,
   "metadata": {},
   "outputs": [],
   "source": [
    "# Load BP Dataset\n",
    "bp_dataset = pd.read_excel('bp-stats-review-2022-all-data.xlsx', sheet_name='Primary Energy Consumption', header=2, index_col=0)\n",
    "bp_dataset.index.name = None\n",
    "\n",
    "# Select years from base year until today\n",
    "bp_years = [2005,2015] # bp_years = list(range(2005, 2022, 1))\n",
    "bp_dataset = bp_dataset[bp_years]\n",
    "\n",
    "# Drop rows with all NaN \n",
    "bp_dataset_clean = bp_dataset.dropna(axis = 0, how = 'all')"
   ]
  },
  {
   "cell_type": "code",
   "execution_count": 3,
   "metadata": {},
   "outputs": [],
   "source": [
    "# Conver Exajoules (from BP Dataset) to kWh: 1 EJ = 2,778e+11 kWh\n",
    "bp_dataset_clean = bp_dataset_clean * 2.778e+11"
   ]
  },
  {
   "cell_type": "code",
   "execution_count": 4,
   "metadata": {},
   "outputs": [],
   "source": [
    "# Aggregating the Primary Energy Data per region\n",
    "\n",
    "'''\n",
    "Based on the EIA, a reference from the International Energy Outlook defines regions such as OECD-Europe, Other non-OECD Europe and Eurasia,\n",
    "Other non-OECD Asia and the Middle East. We will be using these definitions moving forward. Also, Israel is included in OECD Europe for \n",
    "statistical reporting purposes (https://www.eia.gov/outlooks/ieo/pdf/IEO2021_ChartLibrary_References.pdf).\n",
    "\n",
    "For OHI, High Income Countries were based on the European Commission data \n",
    "(https://ec.europa.eu/eurostat/web/international-statistical-cooperation/higher-income-countries). Questions about whether Signapore should \n",
    "be included in this regional category.\n",
    "'''\n",
    "\n",
    "# Aggregates from BP Dataset based on EIO\n",
    "Latin_America_BP = ['Mexico','Total S. & Cent. America']\n",
    "OHI_BP = ['Canada','Australia','New Zealand', 'South Korea'] \n",
    "OECD_Europe_BP = ['Austria', 'Belgium', 'Czech Republic', 'Denmark', 'Estonia', 'Finland', 'France', 'Germany',\n",
    "'Greece', 'Hungary', 'Iceland', 'Ireland', 'Italy', 'Latvia', 'Lithuania', 'Luxembourg', 'Netherlands', 'Norway', 'Poland',\n",
    "'Portugal', 'Slovakia', 'Slovenia', 'Spain', 'Sweden', 'Switzerland', 'Turkey', 'United Kingdom']\n",
    "Middle_East_BP = ['Iran', 'Iraq', 'Kuwait', 'Oman', 'Qatar', 'Saudi Arabia', 'United Arab Emirates', \n",
    "'Other Middle East']\n",
    "Non_OECD_Asia_BP = ['Bangladesh', 'China Hong Kong SAR', 'Indonesia',\n",
    "'Malaysia', 'Pakistan', 'Philippines', 'Singapore', 'Sri Lanka', 'Taiwan', 'Thailand', 'Vietnam', 'Other Asia Pacific']\n",
    "Non_Russia_Eurasia_BP = ['Azerbaijan', 'Belarus', 'Bulgaria', 'Croatia', 'Cyprus','Kazakhstan', 'North Macedonia',\n",
    "'Romania','Turkmenistan', 'Ukraine','Uzbekistan', 'Other CIS']\n",
    "\n",
    "# Single Country Regions\n",
    "US_PE = bp_dataset_clean[bp_dataset_clean.index == 'US']\n",
    "Russia_PE = bp_dataset_clean[bp_dataset_clean.index == 'Russian Federation'].rename(index={'Russian Federation':'Russia'}) \n",
    "China_PE = bp_dataset_clean[bp_dataset_clean.index == 'China']\n",
    "Japan_PE = bp_dataset_clean[bp_dataset_clean.index == 'Japan']\n",
    "India_PE = bp_dataset_clean[bp_dataset_clean.index == 'India']\n",
    "\n",
    "# Simple Grouped Regions\n",
    "Africa_PE = bp_dataset_clean[bp_dataset_clean.index == 'Total Africa'].rename(index = {'Total Africa':'Africa'})\n",
    "\n",
    "Latin_America_PE = bp_dataset_clean.loc[Latin_America_BP]\n",
    "Latin_America_PE.loc['Latin America'] = Latin_America_PE.sum()\n",
    "Latin_America_PE = Latin_America_PE.drop(index = Latin_America_BP)\n",
    "\n",
    "OHI_PE = bp_dataset_clean.loc[OHI_BP]\n",
    "OHI_PE.loc['OHI'] = OHI_PE.sum()\n",
    "OHI_PE = OHI_PE.drop(index = OHI_BP)\n",
    "\n",
    "# Complex Grouped Regions\n",
    "\n",
    "OECD_Europe_PE = bp_dataset_clean.loc[OECD_Europe_BP]\n",
    "OECD_Europe_PE.loc['OECD-Europe'] = OECD_Europe_PE.sum()\n",
    "OECD_Europe_PE = OECD_Europe_PE.drop(index = OECD_Europe_BP)\n",
    "\n",
    "Middle_East_PE = bp_dataset_clean.loc[Middle_East_BP] \n",
    "Middle_East_PE.loc['Middle East'] = Middle_East_PE.sum()\n",
    "Middle_East_PE = Middle_East_PE.drop(index = Middle_East_BP)\n",
    "\n",
    "Non_OECD_Asia_PE = bp_dataset_clean.loc[Non_OECD_Asia_BP] \n",
    "Non_OECD_Asia_PE.loc['Other non-OECD Asia'] = Non_OECD_Asia_PE.sum()\n",
    "Non_OECD_Asia_PE = Non_OECD_Asia_PE.drop(index = Non_OECD_Asia_BP)\n",
    "\n",
    "Non_Russia_Eurasia_PE = bp_dataset_clean.loc[Non_Russia_Eurasia_BP]\n",
    "Non_Russia_Eurasia_PE.loc['Non-Russia Eurasia'] = Non_Russia_Eurasia_PE.sum()\n",
    "Non_Russia_Eurasia_PE = Non_Russia_Eurasia_PE.drop(index = Non_Russia_Eurasia_BP)"
   ]
  },
  {
   "cell_type": "code",
   "execution_count": 5,
   "metadata": {},
   "outputs": [],
   "source": [
    "# Build one Primary Energy Dataframe\n",
    "frames = [US_PE, OECD_Europe_PE, Japan_PE, Russia_PE, Non_Russia_Eurasia_PE, China_PE, India_PE, Middle_East_PE, Africa_PE, Latin_America_PE,\n",
    "OHI_PE, Non_OECD_Asia_PE]\n",
    "\n",
    "BP_Primary_Energy = pd.concat(frames)"
   ]
  },
  {
   "cell_type": "code",
   "execution_count": null,
   "metadata": {},
   "outputs": [],
   "source": [
    "\n"
   ]
  }
 ],
 "metadata": {
  "kernelspec": {
   "display_name": "Python 3.9.7 ('base')",
   "language": "python",
   "name": "python3"
  },
  "language_info": {
   "codemirror_mode": {
    "name": "ipython",
    "version": 3
   },
   "file_extension": ".py",
   "mimetype": "text/x-python",
   "name": "python",
   "nbconvert_exporter": "python",
   "pygments_lexer": "ipython3",
   "version": "3.9.7"
  },
  "orig_nbformat": 4,
  "vscode": {
   "interpreter": {
    "hash": "40d3a090f54c6569ab1632332b64b2c03c39dcf918b08424e98f38b5ae0af88f"
   }
  }
 },
 "nbformat": 4,
 "nbformat_minor": 2
}
